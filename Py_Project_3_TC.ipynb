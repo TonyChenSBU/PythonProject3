{
  "cells": [
    {
      "cell_type": "markdown",
      "metadata": {
        "id": "xq__bChjD04e"
      },
      "source": [
        "# Python Assignment 3"
      ]
    },
    {
      "cell_type": "markdown",
      "source": [
        "⏱⏱⏱**Due: 11/02/2023 11:59 PM** ⏱⏱⏱\n",
        "\n",
        "Please submit your notebook files and upload them to your Git repository. Don't forget to include a link to your Git repository when submitting this file on Brightspace. **Please include all outputs in your notebook, including plots, printouts, etc..**\n",
        "\n",
        "Collaboration is permitted and encouraged; however, it's essential to independently produce and submit your own work. If you collaborate with others, please ensure that you provide their names in the designated section.\n",
        "\n",
        "Collaborators:_____"
      ],
      "metadata": {
        "id": "y7j2V0UDMYLG"
      }
    },
    {
      "cell_type": "markdown",
      "metadata": {
        "id": "SUS30Ew9D04n"
      },
      "source": [
        "##**For Questions 2a and 2b, you can choose one of them to complete, if you completed both, only Questions 2a will be graded.**\n",
        "\n",
        "**This assignment is out of 150 points; surplus points can be applied to other assignments (including Matlab and C/C++). However, it cannot be applied to your final project grade, and your assignment grade will not excced 75% of your total grade.**"
      ]
    },
    {
      "cell_type": "markdown",
      "source": [
        "## 1. Good presentation of your code and outputs; submitting your files to Github (10 pts)"
      ],
      "metadata": {
        "id": "KR0Fl4yAQYad"
      }
    },
    {
      "cell_type": "markdown",
      "source": [
        "Ensure thorough and clear comments within your code to explain its functionality.\n",
        "\n",
        "Enhance your plots by adding titles, legends, and axis labels where appropriate to provide clarity.\n",
        "\n",
        "If necessary, employ LaTex notation to present mathematical explanations within the notebook.\n",
        "\n",
        "Divide your code into multiple blocks or cells in Jupyter Notebook and provide descriptive explanations for each block to improve readability.\n",
        "\n",
        "As part of your submission, **include the notebook files and upload them to your Git repository. Additionally, remember to provide a link to your Git repository when submitting the files on Brightspace.** Do not submit a compressed file (.rar, .zip, etc..), submit files separately.\n",
        "\n",
        "If you are tasked with implementing a numerical algorithm, it is expected that you would not rely on pre-existing methods. For example, if you were asked to solve $Ax=b$, you should write your own program to solve, not just by calling numpy.linalg.solve.\n",
        "\n"
      ],
      "metadata": {
        "id": "9WPZWhYQkptT"
      }
    },
    {
      "cell_type": "markdown",
      "source": [
        "## 2a. Numerical Integration (30 pts)"
      ],
      "metadata": {
        "id": "U5SL2j0sqnAJ"
      }
    },
    {
      "cell_type": "markdown",
      "source": [
        "For a domain discretized into $N$ equally spaced panels:\n",
        "$$\n",
        "\\Delta x=\\frac{b-a}{N}.\n",
        "$$\n",
        "The approximation to the integral is\n",
        "$$\\begin{aligned}\n",
        "\\int_a^b f(x) d x & \\approx \\frac{\\Delta x}{2} \\sum_{k=1}^N\\left(f\\left(x_{k-1}\\right)+f\\left(x_k\\right)\\right) \\\\\n",
        "& =\\frac{\\Delta x}{2}\\left(f\\left(x_0\\right)+2 f\\left(x_1\\right)+2 f\\left(x_2\\right)+2 f\\left(x_3\\right)+\\cdots+2 f\\left(x_{N-1}\\right)+f\\left(x_N\\right)\\right) \\\\\n",
        "& =\\Delta x\\left(\\sum_{k=1}^{N-1} f\\left(x_k\\right)+\\frac{f\\left(x_N\\right)+f\\left(x_0\\right)}{2}\\right) .\n",
        "\\end{aligned}$$\n",
        "This is the trapezoid rule scheme.\n",
        "\n",
        "\n",
        "Given the function $f(x) = 3x^2 + 2x +2$, your tasks are:\n",
        "\n",
        "1. Carry out the integration symbolically using the SymPy library. Output the result (i.e. print out the result).\n",
        "2. Implement the trapezoid rule to estimate the integral $\\int_{-4}^6 f(x) dx$ using the following values of $N = 10, 20, 40, 80, 160, 320, 640, 1280$. Output the results (i.e. print out the results).\n",
        "3. Plot the absolute error (absolute difference between the numerical approximation and the SymPy result) against N.\n",
        "\n",
        "\n",
        "\n"
      ],
      "metadata": {
        "id": "OxwdE468rNAR"
      }
    },
    {
      "cell_type": "code",
      "source": [
        "import sympy as sp\n",
        "import matplotlib.pyplot as plt\n",
        "\n",
        "# Define the symbolic variable and function\n",
        "x = sp.symbols('x')\n",
        "f = 3*x**2 + 2*x + 2\n",
        "\n",
        "# Task 1: Symbolic integration\n",
        "integral_sympy = sp.integrate(f, (x, -4, 6))\n",
        "print(\"Task 1: Symbolic integration result =\", integral_sympy)\n",
        "\n",
        "\n",
        "# Task 2: Trapezoid rule implementation\n",
        "print(\"Task 2: Trapezoid rule implementation\")\n",
        "def trapezoid_rule(a, b, N):\n",
        "    # Calculate the width of each panel\n",
        "    delta_x = (b - a) / N\n",
        "\n",
        "    # Generate the x values for the panels\n",
        "    x_vals = []\n",
        "    for k in range(N+1):\n",
        "      x_vals.append(a + k*delta_x)\n",
        "\n",
        "    # Calculate the approximate integral using trapezoid rule\n",
        "    integral_approx = delta_x * (\n",
        "        sum(f.subs(x, x_vals[k]) for k in range(1, N)) +\n",
        "        (f.subs(x, x_vals[0]) + f.subs(x, x_vals[N])) / 2\n",
        "    )\n",
        "\n",
        "    return integral_approx\n",
        "\n",
        "# List of N values to test\n",
        "N_values = [10, 20, 40, 80, 160, 320, 640, 1280]\n",
        "\n",
        "# Calculate approximations for different N values\n",
        "integral_trapezoid = []\n",
        "for N in N_values:\n",
        "    integral = trapezoid_rule(-4, 6, N)\n",
        "    integral_trapezoid.append(integral)\n",
        "    print(f\"N = {N}, Approximation = {integral}\")\n",
        "\n",
        "# Task 3: Plot absolute error against N\n",
        "print(\"Task 3: Plot absolute error against N\")\n",
        "absolute_errors = [abs(integral_sympy - integral) for integral in integral_trapezoid]\n",
        "plt.plot(N_values, absolute_errors, marker='o')\n",
        "plt.xlabel('N')\n",
        "plt.ylabel('Absolute Error')\n",
        "plt.title('Absolute Error vs. N for Trapezoid Rule')\n",
        "plt.show()\n"
      ],
      "metadata": {
        "colab": {
          "base_uri": "https://localhost:8080/",
          "height": 663
        },
        "id": "-92Wm_HC-ie9",
        "outputId": "510afaa1-7a20-4086-bbab-5dd24fea6401"
      },
      "execution_count": null,
      "outputs": [
        {
          "output_type": "stream",
          "name": "stdout",
          "text": [
            "Task 1: Symbolic integration result = 320\n",
            "Task 2: Trapezoid rule implementation\n",
            "N = 10, Approximation = 325.000000000000\n",
            "N = 20, Approximation = 321.250000000000\n",
            "N = 40, Approximation = 320.312500000000\n",
            "N = 80, Approximation = 320.078125000000\n",
            "N = 160, Approximation = 320.019531250000\n",
            "N = 320, Approximation = 320.004882812500\n",
            "N = 640, Approximation = 320.001220703125\n",
            "N = 1280, Approximation = 320.000305175781\n",
            "Task 3: Plot absolute error against N\n"
          ]
        },
        {
          "output_type": "display_data",
          "data": {
            "text/plain": [
              "<Figure size 640x480 with 1 Axes>"
            ],
            "image/png": "[encoded data removed]"
          },
          "metadata": {}
        }
      ]
    },
    {
      "cell_type": "markdown",
      "source": [
        "## 2b. Numerical Differentiation (30 pts)"
      ],
      "metadata": {
        "id": "uzMa1xSEwhe3"
      }
    },
    {
      "cell_type": "markdown",
      "source": [
        "Your tasks:\n",
        "1. Find the closed form expression of $f_{xy}(x,y)$, i.e. $\\frac{d^2}{dxdy}f(x,y)$, for $f(x,y) = \\left(sin^2\\left(x\\right)e^xcos(y)\\right)$ using `sympy`. Output the result.\n",
        "2. Find $f_{xy}(2,3)$ with `sympy` and take 15 significant digits, use it as the \"groud truth solution\". Output the result.\n",
        "3. Approximate $f_{xy}(2,3)$ using central difference approximation for the following values of $h = 0.1, 0.01, 0.001, 0.0001$. Output the results.\n",
        "4. Plot the absolute error (absolute difference between the numerical approximation and the SymPy result) against the step size $h$. `plt.gca().invert_xaxis() ` might help.\n",
        "\n",
        "Recall from the lecture:\n",
        "$$f_{x y}(x, y) \\approx \\frac{f(x+h, y+k)-f(x+h, y-k)-f(x-h, y+k)+f(x-h, y-k)}{4 h k}.$$\n",
        "For simplicity, we set $k = h$."
      ],
      "metadata": {
        "id": "FoA2lb0VxDk4"
      }
    },
    {
      "cell_type": "code",
      "source": [
        "import sympy as sp\n",
        "import matplotlib.pyplot as plt\n",
        "\n",
        "# Define the symbols and function\n",
        "x, y, h = sp.symbols('x y h')\n",
        "f = (sp.sin(x)**2 * sp.exp(x) * sp.cos(y))\n",
        "\n",
        "# Task 1: Find the closed form expression of f_xy(x, y)\n",
        "f_xy = sp.diff(f, x, y)\n",
        "print(\"Task 1: f_xy(x, y) =\", f_xy)\n",
        "\n",
        "# Task 2: Find f_xy(2, 3) with 15 significant digits\n",
        "f_xy_ground_truth = f_xy.subs({x: 2, y: 3}).evalf(n=15)\n",
        "print(\"Task 2: f_xy(2, 3) (Ground Truth) =\", f_xy_ground_truth)\n",
        "\n",
        "# Task 3: Approximate f_xy(2, 3) using central difference approximation\n",
        "print(\"Task 3: Approximate f_xy(2, 3) using central difference approximation\")\n",
        "h_values = [0.1, 0.01, 0.001, 0.0001]\n",
        "f_xy_approximations = []\n",
        "\n",
        "for h_value in h_values:\n",
        "    # Central difference approximation formula\n",
        "    f_xy_approx = (f.subs({x: 2+h_value, y: 3+h_value}) - f.subs({x: 2+h_value, y: 3-h_value}) -\n",
        "                   f.subs({x: 2-h_value, y: 3+h_value}) + f.subs({x: 2-h_value, y: 3-h_value})) / (4 * h_value**2)\n",
        "    f_xy_approximations.append(f_xy_approx)\n",
        "\n",
        "    print(f\"Approximation for h = {h_value}: {f_xy_approx}\")\n",
        "\n",
        "# Task 4: Plot absolute error against step size h\n",
        "print(\"Task 4: Plot absolute error against step size h\")\n",
        "absolute_errors = [abs(f_xy_ground_truth - approx) for approx in f_xy_approximations]\n",
        "\n",
        "plt.plot(h_values, absolute_errors, marker='o')\n",
        "plt.xlabel('Step Size (h)')\n",
        "plt.ylabel('Absolute Error')\n",
        "plt.title('Absolute Error vs. Step Size (h)')\n",
        "plt.gca().invert_xaxis()\n",
        "plt.show()\n"
      ],
      "metadata": {
        "colab": {
          "base_uri": "https://localhost:8080/",
          "height": 594
        },
        "id": "lhuccqTUFvRv",
        "outputId": "b49cb7c8-c257-4a15-bc30-6bf2182b307b"
      },
      "execution_count": null,
      "outputs": [
        {
          "output_type": "stream",
          "name": "stdout",
          "text": [
            "Task 1: f_xy(x, y) = -(sin(x) + 2*cos(x))*exp(x)*sin(x)*sin(y)\n",
            "Task 2: f_xy(2, 3) (Ground Truth) = -0.0730121966594062\n",
            "Task 3: Approximate f_xy(2, 3) using central difference approximation\n",
            "Approximation for h = 0.1: -0.0688582152443606\n",
            "Approximation for h = 0.01: -0.0729703465585096\n",
            "Approximation for h = 0.001: -0.0730117781788664\n",
            "Approximation for h = 0.0001: -0.0730121962888575\n"
          ]
        },
        {
          "output_type": "display_data",
          "data": {
            "text/plain": [
              "<Figure size 640x480 with 1 Axes>"
            ],
            "image/png": "[encoded data removed]"
          },
          "metadata": {}
        }
      ]
    },
    {
      "cell_type": "markdown",
      "source": [
        "## 3. Pandas I (15 pts)"
      ],
      "metadata": {
        "id": "aCgIDqeLBPjj"
      }
    },
    {
      "cell_type": "markdown",
      "source": [
        "1. Create a 3x4 (3 rows by 4 columns) pandas DataFrame with the columns named after the following Long Island towns: Hempstead, Babylon, Islip, and Brookhaven. The rows represent 'Population in 2099', 'Population in 2300', 'Population in 2400'. Fill each of the 12 cells in the DataFrame with a random integer from 1000 to 10000, inclusive. `np.random.randint()` might be helpful.\n",
        "For Example:\n",
        "\n",
        "```\n",
        "                    Hempstead  Babylon  Islip  Brookhaven\n",
        "Population in 2099       2931     8043   8414        8661\n",
        "Population in 2300       5444     9227   7393        8007\n",
        "Population in 2400       1660     7977   4730        2940\n",
        "```\n",
        "\n",
        "\n",
        "\n",
        "2. Output the following:\n",
        "  - The entire DataFrame.\n",
        "  - The value in the cell of row #1 (indexing starts with 0) under the Hempstead column.\n",
        "\n",
        "3. Add a new column named Riverhead. Populate this column with the sum of the respective row values from the Islip and Brookhaven columns. Output the entire DataFrame again."
      ],
      "metadata": {
        "id": "O1w1avrtBYD5"
      }
    },
    {
      "cell_type": "code",
      "source": [
        "import pandas as pd\n",
        "import numpy as np\n",
        "\n",
        "# Task 1: Create a 3x4 DataFrame with random population values\n",
        "towns = ['Hempstead', 'Babylon', 'Islip', 'Brookhaven']\n",
        "years = ['Population in 2099', 'Population in 2300', 'Population in 2400']\n",
        "\n",
        "# Generate random population data\n",
        "population_data = np.random.randint(1000, 10001, (3, 4))\n",
        "\n",
        "# Create the DataFrame\n",
        "df = pd.DataFrame(population_data, index=years, columns=towns)\n",
        "print(\"Task 1\")\n",
        "print(df)\n",
        "\n",
        "# Task 2: Output the entire DataFrame and a specific cell value\n",
        "print(\"Task 2:\")\n",
        "print(df)\n",
        "print(\"\\nValue at row #1 under Hempstead column:\", df['Hempstead'][1])\n",
        "\n",
        "# Task 3: Add a new column 'Riverhead' and calculate its values\n",
        "df['Riverhead'] = df['Islip'] + df['Brookhaven']\n",
        "\n",
        "# Output the DataFrame after adding the new column\n",
        "print(\"\\nTask 3:\")\n",
        "print(df)\n"
      ],
      "metadata": {
        "colab": {
          "base_uri": "https://localhost:8080/"
        },
        "id": "YxcGOuQ5KE4w",
        "outputId": "1c8bc74f-7e6e-49ee-c6b0-165b005a2076"
      },
      "execution_count": null,
      "outputs": [
        {
          "output_type": "stream",
          "name": "stdout",
          "text": [
            "Task 1\n",
            "                    Hempstead  Babylon  Islip  Brookhaven\n",
            "Population in 2099       4143     6275   1978        4208\n",
            "Population in 2300       1062     3170   6157        4126\n",
            "Population in 2400       8637     3082   1813        5632\n",
            "Task 2:\n",
            "                    Hempstead  Babylon  Islip  Brookhaven\n",
            "Population in 2099       4143     6275   1978        4208\n",
            "Population in 2300       1062     3170   6157        4126\n",
            "Population in 2400       8637     3082   1813        5632\n",
            "\n",
            "Value at row #1 under Hempstead column: 1062\n",
            "\n",
            "Task 3:\n",
            "                    Hempstead  Babylon  Islip  Brookhaven  Riverhead\n",
            "Population in 2099       4143     6275   1978        4208       6186\n",
            "Population in 2300       1062     3170   6157        4126      10283\n",
            "Population in 2400       8637     3082   1813        5632       7445\n"
          ]
        }
      ]
    },
    {
      "cell_type": "markdown",
      "source": [
        "## 4. Pandas II (15 pts)"
      ],
      "metadata": {
        "id": "WqHDjQC-KLjo"
      }
    },
    {
      "cell_type": "markdown",
      "source": [
        "0. Download the cvs file that comes with this assignment, and read it into a dataframe. You can also download this [csv file](https://media.githubusercontent.com/media/datablist/sample-csv-files/main/files/customers/customers-100.csv) with this link.\n",
        "1. Arrange the data in alphabetical order based on the last name. Display the first few rows.\n",
        "2. Count the number of customers whose subscription date is in 2021 (2021-01-01 to 2021-12-31). Report this number (e.g. print)."
      ],
      "metadata": {
        "id": "w6kHh8BENzHk"
      }
    },
    {
      "cell_type": "code",
      "source": [
        "import pandas as pd\n",
        "\n",
        "# Task 0: Download and read the CSV file\n",
        "import requests\n",
        "import pandas as pd\n",
        "\n",
        "# URL of the CSV file\n",
        "url = \"https://media.githubusercontent.com/media/datablist/sample-csv-files/main/files/customers/customers-100.csv\"\n",
        "\n",
        "# Download the file\n",
        "response = requests.get(url)\n",
        "with open('customers-100.csv', 'wb') as file:\n",
        "    file.write(response.content)\n",
        "\n",
        "# Read the CSV file into a DataFrame\n",
        "df = pd.read_csv('customers-100.csv')\n",
        "\n",
        "# Task 1: Arrange data by last name and display the first few rows\n",
        "df_sorted = df.sort_values(by='Last Name')\n",
        "print(\"Task 1: Data sorted by last name, displaying the first few rows:\")\n",
        "print(df_sorted.head())\n",
        "\n",
        "# Task 2: Count customers with subscription date in 2021\n",
        "start_date = '2021-01-01'\n",
        "end_date = '2021-12-31'\n",
        "num_customers_2021 = df[(df['Subscription Date'] >= start_date) & (df['Subscription Date'] <= end_date)].shape[0]\n",
        "print(f\"\\nTask 2: Number of customers with subscription date in 2021: {num_customers_2021}\")\n"
      ],
      "metadata": {
        "colab": {
          "base_uri": "https://localhost:8080/"
        },
        "id": "IuPeeacoK660",
        "outputId": "4d6a4dea-6660-4336-8c3d-18dc5a01bbc5"
      },
      "execution_count": null,
      "outputs": [
        {
          "output_type": "stream",
          "name": "stdout",
          "text": [
            "Task 1: Data sorted by last name, displaying the first few rows:\n",
            "    Index      Customer Id First Name Last Name                Company  \\\n",
            "67     68  a014Ec1b9FccC1E        Tom  Alvarado    Donaldson-Dougherty   \n",
            "96     97  CeD220bdAaCfaDf       Lynn  Atkinson  Ware, Burns and Oneal   \n",
            "92     93  aAb6AFc7AfD0fF3     Collin     Ayers          Lamb-Peterson   \n",
            "0       1  DD37Cf93aecA6Dc     Sheryl    Baxter        Rasmussen Group   \n",
            "15     16  8cad0b4CBceaeec    Miranda   Beasley     Singleton and Sons   \n",
            "\n",
            "                City    Country             Phone 1                Phone 2  \\\n",
            "67  South Sophiaberg   Kiribati  (585)606-2980x2258      730-797-3594x5614   \n",
            "96      New Bradview  Sri Lanka     +1-846-706-2218           605.413.3198   \n",
            "92      South Lonnie   Anguilla    404-645-5351x012  001-257-582-8850x8516   \n",
            "0       East Leonard      Chile        229.077.5154       397.884.0519x718   \n",
            "15      Desireeshire       Oman    540.085.3135x185  +1-600-462-6432x21881   \n",
            "\n",
            "                            Email Subscription Date  \\\n",
            "67  nicholsonnina@montgomery.info        2020-08-18   \n",
            "96              vkemp@ferrell.com        2021-07-10   \n",
            "92       dudleyemily@gonzales.biz        2021-06-29   \n",
            "0        zunigavanessa@smith.info        2020-08-24   \n",
            "15        vduncan@parks-hardy.com        2022-04-12   \n",
            "\n",
            "                       Website  \n",
            "67     http://odom-massey.com/  \n",
            "96  https://novak-allison.com/  \n",
            "92        http://www.ruiz.com/  \n",
            "0   http://www.stephenson.com/  \n",
            "15          http://acosta.org/  \n",
            "\n",
            "Task 2: Number of customers with subscription date in 2021: 43\n"
          ]
        }
      ]
    },
    {
      "cell_type": "markdown",
      "source": [
        "## 5. LU decomposition (50 + 30 pts)\n"
      ],
      "metadata": {
        "id": "aBpXtK8VvApb"
      }
    },
    {
      "cell_type": "markdown",
      "source": [
        "Part A (50 points)\n",
        "1. Write a function `LUdecomposition()` that takes as input a matrix $A\\in \\mathbb{R}^{n \\times n}$. Perform Gaussian Elimination to have this function return two matrices $L$ and $U$ such that $A=LU$.\n",
        "2. Your function should raise any relevant errors, for example, raise an error if a pure LU decomposition does not exist for $A$ (meaning that you have to perform pivoting, i.e., permutation of rows).\n",
        "3. Create several random matrices for the purpose of testing your function. Obtain the $L$ and $U$ matrices, and for each random matrix obtain its L and U matrices and perform a matrix multiplication (`np.matmul()`) to determine whether the outcome closely resembles the original matrix $A$, allowing for slight differences attributable to precision errors.\n",
        "\n",
        "\n",
        "Note: LU decomposition with Gaussian elimination should be covered in your undergraduate linear algebra class. It is also covered in AMS 510. If you do not know how, this 10 minute [video](https://www.youtube.com/watch?v=UlWcofkUDDU&ab_channel=Mathispower4u) explains it very well.\n",
        "\n",
        "Part B (30 bonus points)\n",
        "4. Not all square matrices have a pure LU decomposition. However, PLU decomposition always exists. Write another function `pivoting()` that takes as input a matrix $A$ and return the permutation/pivoting matrix $P$ such that $PA$ always has a pure LU decomposition.\n",
        "5. Find an example $A$ for which `LUdecomposition()` raises an error. Then, use `pivoting()` to find $P$, and find the pure LU decomposition of $PA$. Verify that indeed $PA = LU$ with matrix multiplication (`np.matmul()`).\n",
        "\n",
        "\n",
        "Hint: Please do not print out a giant matrix and visually examine the outcomes. Think of a way to verify your results and output a boolean value.\n"
      ],
      "metadata": {
        "id": "ryafNieevrgZ"
      }
    },
    {
      "cell_type": "code",
      "source": [
        "import numpy as np\n",
        "\n",
        "# Function to perform LU decomposition\n",
        "def LUdecomposition(A):\n",
        "    n = A.shape[0]\n",
        "    U = A.copy()\n",
        "    L = np.eye(n, dtype=np.double)\n",
        "\n",
        "    # Loop through each row\n",
        "    for i in range(n):\n",
        "        # Check for zero pivot\n",
        "        if np.isclose(U[i, i], 0.0):\n",
        "          # Find a non-zero pivot below\n",
        "          for k in range(i+1, n):\n",
        "                if not np.isclose(U[k, i], 0.0):\n",
        "                  raise ValueError(\"Zero pivot encountered with another non-Zero pivot. LU decomposition does not exist.\")\n",
        "        else:\n",
        "          # Calculate factors for elimination\n",
        "          factor = U[i+1:, i] / U[i, i]\n",
        "\n",
        "          # Update lower and upper matrices\n",
        "          L[i+1:, i] = factor\n",
        "          U[i+1:] -= factor[:, np.newaxis] * U[i]\n",
        "\n",
        "    return L, U\n",
        "\n",
        "\n",
        "# Function to test LU decomposition\n",
        "def test_LUdecomposition():\n",
        "    print(\"Part A Testing\")\n",
        "    for _ in range(5):\n",
        "        # Generate random matrix\n",
        "        A = np.random.rand(3, 3)\n",
        "        L, U = LUdecomposition(A)\n",
        "\n",
        "        # Check if LU decomposition is accurate\n",
        "        result = np.allclose(A, np.matmul(L, U))\n",
        "        print(f\"Test passed: {result}\")\n",
        "\n",
        "# Part A: Test LU decomposition\n",
        "test_LUdecomposition()\n",
        "\n",
        "\n",
        "############################################################################\n",
        "\n",
        "# Part B: Function for pivoting (permutation matrix)\n",
        "def pivoting(A):\n",
        "    n = A.shape[0]\n",
        "    P = np.eye(n, dtype=np.double)\n",
        "\n",
        "    U = A.copy()\n",
        "    L = np.eye(n, dtype=np.double)\n",
        "\n",
        "    # Loop through rows for pivoting\n",
        "    for i in range(n):\n",
        "        for k in range(i, n-1):\n",
        "            if not np.isclose(U[i, i], 0.0):\n",
        "                break\n",
        "            U[[k, k+1]] = U[[k+1, k]]\n",
        "            P[[k, k+1]] = P[[k+1, k]]\n",
        "\n",
        "        factor = U[i+1:, i] / U[i, i]\n",
        "        L[i+1:, i] = factor\n",
        "        U[i+1:] -= factor[:, np.newaxis] * U[i]\n",
        "\n",
        "    return P\n",
        "\n",
        "\n",
        "########################################################################\n",
        "print(\"Example 1\")\n",
        "# Define matrix A\n",
        "A = np.array([[0, 1], [1, 0]], dtype=np.double)\n",
        "print(\"\\n Part B testing\")\n",
        "print(\"A:\")\n",
        "print(A)\n",
        "\n",
        "# Perform LU decomposition\n",
        "try:\n",
        "    L, U = LUdecomposition(A)\n",
        "    print(\"LU decomposition successful:\")\n",
        "    print(\"L:\")\n",
        "    print(L)\n",
        "    print(\"U:\")\n",
        "    print(U)\n",
        "except ValueError as e:\n",
        "    print(e)\n",
        "\n",
        "# Find permutation matrix P\n",
        "P = pivoting(A)\n",
        "print(\"P:\")\n",
        "print(P)\n",
        "\n",
        "# Calculate PA\n",
        "PA = np.matmul(P, A)\n",
        "print(\"PA:\")\n",
        "print(PA)\n",
        "\n",
        "# Perform LU decomposition on PA\n",
        "L, U = LUdecomposition(PA)\n",
        "print(\"L:\")\n",
        "print(L)\n",
        "print(\"U:\")\n",
        "print(U)\n",
        "\n",
        "# Check if PA = LU\n",
        "result = np.allclose(PA, np.matmul(L, U))\n",
        "print(f\"PA = LU: {result}\")\n",
        "\n",
        "\n",
        "\n",
        "\n",
        "\n",
        "#################################################################\n",
        "\"\"\"\n",
        "#Example 2 NOT PA = LU\n",
        "# Define a matrix A with a zero pivot\n",
        "A2 = np.array([[1, 2, 3], [2, 4, 6], [3, 6, 9]], dtype=np.double)\n",
        "\n",
        "# Try to perform LU decomposition on A\n",
        "\n",
        "L, U = LUdecomposition(A2)\n",
        "#print(\"LU decomposition successful:\")\n",
        "#print(\"L:\")\n",
        "#print(L)\n",
        "#print(\"U:\")\n",
        "#print(U)\n",
        "result = np.allclose(A2, np.matmul(L, U))\n",
        "print(\"Example 2 NOT PA = LU with Zero Pivot\")\n",
        "print(f\"A = LU: {result}\")\n",
        "\"\"\"\n",
        "\n",
        "\n",
        "##############################################################\n",
        "#Example 3 PA = LU\n",
        "print(\"Example 3\")\n",
        "A3 = np.array([[1,1, 1], [0, 0, 1], [2, 3, 4]], dtype=np.double)\n",
        "\n",
        "# Perform LU decomposition\n",
        "try:\n",
        "    L3, U3 = LUdecomposition(A3)\n",
        "    print(\"LU decomposition successful:\")\n",
        "    print(\"L:\")\n",
        "    print(L)\n",
        "    print(\"U:\")\n",
        "    print(U)\n",
        "except ValueError as e:\n",
        "    print(e)\n",
        "# Find permutation matrix P\n",
        "P3 = pivoting(A3)\n",
        "\n",
        "# Calculate PA\n",
        "PA3 = np.matmul(P3, A3)\n",
        "\n",
        "\n",
        "# Perform LU decomposition on PA\n",
        "L3, U3 = LUdecomposition(PA3)\n",
        "\n",
        "# Check if PA = LU\n",
        "result = np.allclose(PA3, np.matmul(L3, U3))\n",
        "print(f\"PA = LU: {result}\")\n",
        "\n",
        "\n",
        "\n",
        "\n"
      ],
      "metadata": {
        "colab": {
          "base_uri": "https://localhost:8080/"
        },
        "id": "X2QbfXeRMG39",
        "outputId": "f01d9ebb-4987-45cc-db56-104fb9a35ba7"
      },
      "execution_count": 53,
      "outputs": [
        {
          "output_type": "stream",
          "name": "stdout",
          "text": [
            "Part A Testing\n",
            "Test passed: True\n",
            "Test passed: True\n",
            "Test passed: True\n",
            "Test passed: True\n",
            "Test passed: True\n",
            "Example 1\n",
            "\n",
            " Part B testing\n",
            "A:\n",
            "[[0. 1.]\n",
            " [1. 0.]]\n",
            "Zero pivot encountered with another non-Zero pivot. LU decomposition does not exist.\n",
            "P:\n",
            "[[0. 1.]\n",
            " [1. 0.]]\n",
            "PA:\n",
            "[[1. 0.]\n",
            " [0. 1.]]\n",
            "L:\n",
            "[[1. 0.]\n",
            " [0. 1.]]\n",
            "U:\n",
            "[[1. 0.]\n",
            " [0. 1.]]\n",
            "PA = LU: True\n",
            "Example 3\n",
            "Zero pivot encountered with another non-Zero pivot. LU decomposition does not exist.\n",
            "PA = LU: True\n"
          ]
        }
      ]
    },
    {
      "cell_type": "markdown",
      "source": [
        "Fact: LU and PLU decompositions are not unique."
      ],
      "metadata": {
        "id": "QlP_giLsQRPM"
      }
    },
    {
      "cell_type": "markdown",
      "source": [
        "## 6. Markov Chain (30 pts)"
      ],
      "metadata": {
        "id": "X_4ITuoU53KF"
      }
    },
    {
      "cell_type": "markdown",
      "source": [
        "**BACKGROUND:** Consider a Markov chain transition matrix $P$ on a set of $n$ states, where $P_{i j}$ corresponds to the probability $\\left(0 \\leq P_{i j} \\leq 1\\right)$ to go from state $i$ to the state $j$, and each row is normalized so that\n",
        "$$\n",
        "\\sum_{j=1}^n P_{i j}=1 .\n",
        "$$\n",
        "\n",
        "Let $p$ be a size- $n$ vector composed of the probability distribution over the $n$ states, where\n",
        "$$\n",
        "\\sum_{j=1}^n p_j=1 .\n",
        "$$\n",
        "\n",
        "The transition rule corresponding to the transition matrix $P$ is $\\hat{p}=P^T p$, where $\\hat{p}$ corresponds to a new probability distribution and\n",
        "$$\n",
        "\\sum_{j=1}^n \\hat{p}_j=1 .\n",
        "$$\n",
        "TASK: Write a program that works with 5 states `only use the numpy library`. In particular,\n",
        "0. Fix the random seed to be the last digit of your id: `numpy.random.seed()`.\n",
        "\n",
        "1. Construct a random $5 \\times 5$ matrix $P$, and normalize each row so that\n",
        "$$\n",
        "\\sum_{j=1}^5 P_{i j}=1 .\n",
        "$$\n",
        "\n",
        "2. Construct a random size-5 vector $p$ and normalize it so that\n",
        "$$\n",
        "\\sum_{j=1}^5 p_j=1 .\n",
        "$$\n",
        "Apply the transition rule 50 times to obtain $p_{50}$.\n",
        "3. Compute the eigenvector $v$ of $P^T$ corresponding to the eigenvalue 1 (and numerically, the eigenvalue closest to $1)$, and then scale the eigenvector so that\n",
        "$$\n",
        "\\sum_{j=1}^5 v_j=1 .\n",
        "$$\n",
        "This scaled eigenvector is known as the stationary distribution.\n",
        "\n",
        "4. Compute the component wise difference between $p_{50}$ and the stationary distribution. Do they match with each other within $1 \\mathrm{e}-5$ ?\n",
        "\n",
        "HINTS: You may find the following functions useful in your implementation:\n",
        "- np.random.rand\n",
        "- np.dot\n",
        "- np.linalg.eig"
      ],
      "metadata": {
        "id": "X2-wBoxIWLQs"
      }
    },
    {
      "cell_type": "code",
      "source": [
        "import numpy as np\n",
        "\n",
        "# Task 0: Fix the random seed\n",
        "np.random.seed(3)  # Change the seed to the last digit of your ID\n",
        "\n",
        "# Task 1: Construct a random 5x5 matrix P and normalize each row\n",
        "P = np.random.rand(5, 5)\n",
        "P = P / P.sum(axis=1, keepdims=True)\n",
        "\n",
        "# Task 2: Construct a random size-5 vector p and normalize it\n",
        "p = np.random.rand(5)\n",
        "p = p / p.sum()\n",
        "\n",
        "# Apply the transition rule 50 times\n",
        "for _ in range(50):\n",
        "    p = np.dot(P.T, p)\n",
        "    p = p / p.sum()\n",
        "\n",
        "# Task 3: Compute the eigenvector v of P^T corresponding to eigenvalue 1\n",
        "eigenvalues, eigenvectors = np.linalg.eig(P.T)\n",
        "index = np.argmin(np.abs(eigenvalues - 1))\n",
        "v = eigenvectors[:, index].real\n",
        "v = v / v.sum()\n",
        "\n",
        "# Task 4: Compute the component-wise difference between p50 and the stationary distribution\n",
        "difference = np.abs(p - v)\n",
        "\n",
        "# Check if the components match within 1e-5\n",
        "match = np.all(difference < 1e-5)\n",
        "\n",
        "print(\"Matrix P:\")\n",
        "print(P)\n",
        "print(\"\\nRandom vector p:\")\n",
        "print(p)\n",
        "print(\"\\nTransitioned p after 50 iterations:\")\n",
        "print(p)\n",
        "print(\"\\nEigenvector v of P^T:\")\n",
        "print(v)\n",
        "print(\"\\nComponent-wise difference between p50 and stationary distribution:\")\n",
        "print(difference)\n",
        "print(\"\\nDo the components match within 1e-5?\")\n",
        "print(match)\n"
      ],
      "metadata": {
        "colab": {
          "base_uri": "https://localhost:8080/"
        },
        "id": "mEpaYsYLYAvE",
        "outputId": "8ee16ca3-f895-4628-eefa-7b488e7f9f64"
      },
      "execution_count": 39,
      "outputs": [
        {
          "output_type": "stream",
          "name": "stdout",
          "text": [
            "Matrix P:\n",
            "[[0.186482   0.23975549 0.09849075 0.17294938 0.30232238]\n",
            " [0.52067733 0.0729554  0.12039217 0.02989849 0.25607661]\n",
            " [0.01429076 0.21851821 0.31050674 0.13320954 0.32347475]\n",
            " [0.31972189 0.01297684 0.30240164 0.14028414 0.22461549]\n",
            " [0.13382451 0.32716273 0.20789519 0.07404194 0.25707562]]\n",
            "\n",
            "Random vector p:\n",
            "[0.21972728 0.20212093 0.1962758  0.10545074 0.27642524]\n",
            "\n",
            "Transitioned p after 50 iterations:\n",
            "[0.21972728 0.20212093 0.1962758  0.10545074 0.27642524]\n",
            "\n",
            "Eigenvector v of P^T:\n",
            "[0.21972728 0.20212093 0.1962758  0.10545074 0.27642524]\n",
            "\n",
            "Component-wise difference between p50 and stationary distribution:\n",
            "[3.05311332e-16 5.55111512e-17 1.11022302e-16 1.38777878e-17\n",
            " 5.55111512e-17]\n",
            "\n",
            "Do the components match within 1e-5?\n",
            "True\n"
          ]
        }
      ]
    }
  ],
  "metadata": {
    "anaconda-cloud": {},
    "kernelspec": {
      "display_name": "Python 3",
      "name": "python3"
    },
    "language_info": {
      "codemirror_mode": {
        "name": "ipython",
        "version": 3
      },
      "file_extension": ".py",
      "mimetype": "text/x-python",
      "name": "python",
      "nbconvert_exporter": "python",
      "pygments_lexer": "ipython3",
      "version": "3.7.4"
    },
    "colab": {
      "provenance": [],
      "collapsed_sections": [
        "KR0Fl4yAQYad",
        "U5SL2j0sqnAJ",
        "29VDnBBE5pUV",
        "uzMa1xSEwhe3",
        "YCD9beX75Yp7",
        "aCgIDqeLBPjj",
        "WqHDjQC-KLjo",
        "wzeYQOW0OCH3",
        "X_4ITuoU53KF",
        "yoMb8G9jXWcu"
      ],
      "gpuType": "T4"
    }
  },
  "nbformat": 4,
  "nbformat_minor": 0
}